{
 "metadata": {
  "name": "",
  "signature": "sha256:f2b2c99a0026428c45d7ba04313fb00ec81fcad177ba3448d0dd7d9914131d52"
 },
 "nbformat": 3,
 "nbformat_minor": 0,
 "worksheets": [
  {
   "cells": [
    {
     "cell_type": "code",
     "collapsed": false,
     "input": [
      "import pandas as pd"
     ],
     "language": "python",
     "metadata": {},
     "outputs": [],
     "prompt_number": 1
    },
    {
     "cell_type": "heading",
     "level": 3,
     "metadata": {},
     "source": [
      "adding names from waldo's corporate csv"
     ]
    },
    {
     "cell_type": "code",
     "collapsed": false,
     "input": [
      "# read data from csv\n",
      "df = pd.read_csv(\"../../../../Downloads/2_corporate.csv\", usecols=[16])"
     ],
     "language": "python",
     "metadata": {},
     "outputs": [],
     "prompt_number": 2
    },
    {
     "cell_type": "code",
     "collapsed": false,
     "input": [
      "# remove companies\n",
      "df = df[df.agent_name.str.contains(\"CORPORATION\") == False]\n",
      "df = df[df.agent_name.str.contains(\" INC\") == False]\n",
      "df = df[df.agent_name.str.contains(\"SERVICES\") == False]\n",
      "df = df[df.agent_name.str.contains(\" LLC\") == False]\n",
      "df = df[df.agent_name.str.contains(\"CORPORATE\") == False]\n",
      "df = df[df.agent_name.str.contains(\" LTD\") == False]\n",
      "df = df[df.agent_name.str.contains(\"PROPERTIES\") == False]\n",
      "df = df[df.agent_name.str.contains(\" PC\") == False]\n",
      "df = df[df.agent_name.str.contains(\" LLP\") == False]\n",
      "df = df[df.agent_name.str.contains(\"COMPANY\") == False]"
     ],
     "language": "python",
     "metadata": {},
     "outputs": [],
     "prompt_number": 3
    },
    {
     "cell_type": "code",
     "collapsed": false,
     "input": [
      "# get unique names\n",
      "unique_names = df.agent_name.unique()\n",
      "unique_names = pd.DataFrame(unique_names)"
     ],
     "language": "python",
     "metadata": {},
     "outputs": [],
     "prompt_number": 4
    },
    {
     "cell_type": "code",
     "collapsed": false,
     "input": [
      "# write to csv\n",
      "unique_names.to_csv('unlabeled_data/va_corporate.csv', index=False, header=False)"
     ],
     "language": "python",
     "metadata": {},
     "outputs": [],
     "prompt_number": 5
    },
    {
     "cell_type": "heading",
     "level": 3,
     "metadata": {},
     "source": [
      "adding names from waldo's llc csv"
     ]
    },
    {
     "cell_type": "code",
     "collapsed": false,
     "input": [
      "# read data from csv\n",
      "df = pd.read_csv(\"../../../../Downloads/9_llc.csv\", usecols=[15])"
     ],
     "language": "python",
     "metadata": {},
     "outputs": [],
     "prompt_number": 6
    },
    {
     "cell_type": "code",
     "collapsed": false,
     "input": [
      "# remove companies\n",
      "df = df[df.agent_name.str.contains(\"CORPORATION\") == False]\n",
      "df = df[df.agent_name.str.contains(\" INC\") == False]\n",
      "df = df[df.agent_name.str.contains(\"SERVICES\") == False]\n",
      "df = df[df.agent_name.str.contains(\" LLC\") == False]\n",
      "df = df[df.agent_name.str.contains(\"CORPORATE\") == False]\n",
      "df = df[df.agent_name.str.contains(\" LTD\") == False]\n",
      "df = df[df.agent_name.str.contains(\"PROPERTIES\") == False]\n",
      "df = df[df.agent_name.str.contains(\" PC\") == False]\n",
      "df = df[df.agent_name.str.contains(\" LLP\") == False]\n",
      "df = df[df.agent_name.str.contains(\"COMPANY\") == False]"
     ],
     "language": "python",
     "metadata": {},
     "outputs": [],
     "prompt_number": 7
    },
    {
     "cell_type": "code",
     "collapsed": false,
     "input": [
      "# get unique names\n",
      "unique_names = df.agent_name.unique()\n",
      "unique_names = pd.DataFrame(unique_names)"
     ],
     "language": "python",
     "metadata": {},
     "outputs": [],
     "prompt_number": 8
    },
    {
     "cell_type": "code",
     "collapsed": false,
     "input": [
      "# write to csv\n",
      "unique_names.to_csv('unlabeled_data/va_llc.csv', index=False, header=False)"
     ],
     "language": "python",
     "metadata": {},
     "outputs": [],
     "prompt_number": 9
    }
   ],
   "metadata": {}
  }
 ]
}